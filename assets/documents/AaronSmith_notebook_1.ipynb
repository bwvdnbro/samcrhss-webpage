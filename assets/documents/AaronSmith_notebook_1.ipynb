{
 "cells": [
  {
   "cell_type": "code",
   "execution_count": 1,
   "metadata": {
    "collapsed": true
   },
   "outputs": [],
   "source": [
    "%matplotlib inline"
   ]
  },
  {
   "cell_type": "code",
   "execution_count": 2,
   "metadata": {
    "collapsed": true
   },
   "outputs": [],
   "source": [
    "import numpy as np\n",
    "from numpy.random import rand, normal\n",
    "from scipy.optimize import fsolve\n",
    "import matplotlib.pyplot as plt"
   ]
  },
  {
   "cell_type": "markdown",
   "metadata": {},
   "source": [
    "# Constants"
   ]
  },
  {
   "cell_type": "code",
   "execution_count": 3,
   "metadata": {
    "collapsed": true
   },
   "outputs": [],
   "source": [
    "f12 = 0.4162                  # Oscillator strength\n",
    "c   = 2.99792458e10           # Speed of light (cm/sec)\n",
    "ν0  = 2.466e15                # Lya frequency (Hz)\n",
    "λ0  = c / ν0                  # Lya wavelength (cm)\n",
    "ΔνL = 9.936e7                 # Natural line width (Hz)\n",
    "me  = 9.109382917e-28         # Electron mass (g)\n",
    "ee  = 4.80320451e-10          # Electron charge in g^(1/2) cm^(3/2) / s\n",
    "kB  = 1.380648813e-16         # Boltzmann's constant (g cm^2/sec^2/k)\n",
    "mH  = 1.6735327e-24           # Mass of hydrogen atom (g)\n",
    "h   = 6.626069573e-27         # Planck's constant (erg s)\n",
    "\n",
    "km  = 1e5                     # Units: 1 km = 1e5  cm\n",
    "pc  = 3.085677581467192e18    # Units: 1 pc = 3e18 cm\n",
    "\n",
    "# Thermal velocity: vth_div_sqrtT = vth / sqrt(T)\n",
    "vth_div_sqrtT = np.sqrt(2. * kB / mH)\n",
    "# Doppler width: ΔνD_div_sqrtT = ΔνD / sqrt(T)  (ΔνD = ν0*vth/c)\n",
    "ΔνD_div_sqrtT = ν0 * vth_div_sqrtT / c\n",
    "# \"damping parameter\": a_sqrtT = a * sqrt(T)\n",
    "a_sqrtT = c * ΔνL * mH / (2. * ν0 * np.sqrt(2. * kB * mH))\n",
    "# Cross section: σ0_sqrtT = σ0 * sqrt(T)\n",
    "σ0_sqrtT = np.sqrt(np.pi/2) * f12 * ee * ee * np.sqrt(mH/kB) / (me * ν0)"
   ]
  },
  {
   "cell_type": "markdown",
   "metadata": {},
   "source": [
    "# Initial Conditions"
   ]
  },
  {
   "cell_type": "code",
   "execution_count": 4,
   "metadata": {},
   "outputs": [
    {
     "name": "stdout",
     "output_type": "stream",
     "text": [
      "Lyman-alpha properties:\n",
      "  aτ0  = 2000.0\n",
      "  T    = 10000.0 K\n",
      "  zmax = 1.0 cm\n",
      "\n",
      "  x_cw = 3.255018090644676\n",
      "  x_cs = 4.2550180906446755\n",
      "  vth  = 12.845159709869076 km/s\n",
      "  ΔνD  = 105.66030932151449 GHz\n",
      "  a    = 0.00047018601704854355\n",
      "  τ0   = 4253635.640962741\n",
      "  σ0   = 5.898174674107242e-14 cm^2\n",
      "  k0   = 4253635.640962741 cm^-1\n",
      "  N0   = 7.211783095600808e+19 cm^-2\n",
      "  n0   = 7.211783095600808e+19 cm^-3\n",
      "  dz0  = 0.000886226925452758\n"
     ]
    }
   ],
   "source": [
    "aτ0  = 2e3  # Optically thick if a * tau0 > 1000\n",
    "T    = 1e4  # Temperature (K)\n",
    "zmax = 1.   # Center-to-edge distance in plane parallel geometry\n",
    "\n",
    "## Derived parameters ##\n",
    "vth  = vth_div_sqrtT * np.sqrt(T)     # Thermal velocity (cm/s)\n",
    "ΔνD  = ΔνD_div_sqrtT * np.sqrt(T)     # Doppler width (Hz)\n",
    "a    = a_sqrtT / np.sqrt(T)           # \"damping parameter\"\n",
    "τ0   = aτ0 / a                        # Optical depth at line center\n",
    "σ0   = σ0_sqrtT / np.sqrt(T)          # Cross-section at line center (cm^2)\n",
    "k0   = τ0 / zmax                      # Absorption coefficient (cm^-1)\n",
    "N0   = τ0 / σ0                        # Column density (cm^-2)\n",
    "n0   = N0 / zmax                      # Number density (cm^-3)\n",
    "dz0  = np.sqrt(np.pi) / (a * k0)      # Convenience: sqrt(pi) / (a kH)\n",
    "# Core-wing transition frequency: exp(-x_cw^2) ~ a / (sqrt(pi) x_cw^2)\n",
    "x_cw = fsolve(lambda y : np.exp(-y*y) - a / (np.sqrt(np.pi) * y*y), 0.5)[0]\n",
    "x_cs = max(x_cw+1., .2*aτ0**(1./3.))  # Core-skipping value Note: coefficient should be small ~ 0.2 * atau0^(1/3)\n",
    "x_cs2 = x_cs**2                       # Convenience: x_cs^2\n",
    "\n",
    "## Print Lyman-alpha properties ##\n",
    "print('Lyman-alpha properties:'\n",
    "      f'\\n  aτ0  = {aτ0}'\n",
    "      f'\\n  T    = {T} K'\n",
    "      f'\\n  zmax = {zmax} cm\\n'\n",
    "      f'\\n  x_cw = {x_cw}'\n",
    "      f'\\n  x_cs = {x_cs}'\n",
    "      f'\\n  vth  = {vth/km} km/s'\n",
    "      f'\\n  ΔνD  = {ΔνD/1e9} GHz'\n",
    "      f'\\n  a    = {a}'\n",
    "      f'\\n  τ0   = {τ0}'\n",
    "      f'\\n  σ0   = {σ0} cm^2'\n",
    "      f'\\n  k0   = {k0} cm^-1'\n",
    "      f'\\n  N0   = {N0} cm^-2'\n",
    "      f'\\n  n0   = {n0} cm^-3'\n",
    "      f'\\n  dz0  = {dz0}')"
   ]
  },
  {
   "cell_type": "markdown",
   "metadata": {},
   "source": [
    "# Helper functions"
   ]
  },
  {
   "cell_type": "code",
   "execution_count": 5,
   "metadata": {},
   "outputs": [
    {
     "data": {
      "image/png": "[encoded data removed]",
      "text/plain": [
       "<Figure size 432x288 with 1 Axes>"
      ]
     },
     "metadata": {
      "needs_background": "light"
     },
     "output_type": "display_data"
    }
   ],
   "source": [
    "## Voigt function ##\n",
    "sqrt_pi = np.sqrt(np.pi)\n",
    "def H(x):\n",
    "    if np.abs(x) < x_cw: # Core photon  =>  H(a,x) ~ ecp(-x^2)\n",
    "        return np.exp(-x*x)\n",
    "    else:        # Wing photon  =>  H(a,x) ~ a / (sqrt(pi) x^2)\n",
    "        return a / (sqrt_pi * x*x)\n",
    "\n",
    "x = np.linspace(-10, 10, 250)\n",
    "plt.semilogy(x, [H(x_i) for x_i in x])\n",
    "plt.xlabel(r'$x$', fontsize=14)\n",
    "plt.ylabel(r'$H(a,x)$', fontsize=14)\n",
    "plt.show()"
   ]
  },
  {
   "cell_type": "markdown",
   "metadata": {},
   "source": [
    "# Lyman-alpha Radiative Transfer"
   ]
  },
  {
   "cell_type": "markdown",
   "metadata": {},
   "source": [
    "* Psuedo-code\n",
    "\n",
    "    Initialize photon position and frequency\n",
    "    \n",
    "    Loop until photon escapes (z > z_max = 1):\n",
    "        Scatter:\n",
    "            if in core: core-skip  =>  x' = +/- x_cs\n",
    "            if in wing: x' = Gaussian(mean=x-1/x, stdev=1)\n",
    "        Move:\n",
    "            draw optical depth: dtau = -log(R)\n",
    "            draw direction: μ = 2R - 1\n",
    "            new position is z' = z + μ dτ / (k_H * H(a,x)) = z + μ dτ dz(x)"
   ]
  },
  {
   "cell_type": "code",
   "execution_count": 6,
   "metadata": {
    "collapsed": true
   },
   "outputs": [],
   "source": [
    "## Track a single photon to escape ##\n",
    "def photon():\n",
    "    z = 0.                      # Initialize each photon at the center of the slab\n",
    "    x = 0.                      # Initialize each photon at line center: x = (ν - ν0) / ΔνD\n",
    "    while np.abs(z) < zmax:\n",
    "        ## Scatter: 'frequency redistribution'\n",
    "        if np.abs(x) < x_cw:    # Core-skipping => Zero mean free path approximation\n",
    "            x = x_cs\n",
    "            if rand() < 0.5: x = -x # Force symmetry for core-skipping\n",
    "        else:                   # Wing scattering approximated by <dx> = -1/x and <dx^2> = 1\n",
    "            x += normal() - 1. / x\n",
    "        ## Move: Photon z position changes by cos(θ) * dτ / [k0 * H(x)]\n",
    "        μ = 2.*rand() - 1.      # Random direction: uniformly distributed in [-1,1]\n",
    "        dτ = -np.log(rand())    # Random optical depth: dτ = -ln(R)\n",
    "        z += μ * dτ * dz0 * x * x # i.e. Δz = μ dτ / (k0 * H(x))\n",
    "    return x"
   ]
  },
  {
   "cell_type": "code",
   "execution_count": 7,
   "metadata": {},
   "outputs": [],
   "source": [
    "## Run simulation ##\n",
    "n_photons = 5000  # Number of Monte-Carlo photon packets\n",
    "x = np.array([photon() for i in range(n_photons)])"
   ]
  },
  {
   "cell_type": "code",
   "execution_count": 8,
   "metadata": {},
   "outputs": [
    {
     "data": {
      "image/png": "[encoded data removed]",
      "text/plain": [
       "<Figure size 432x288 with 1 Axes>"
      ]
     },
     "metadata": {
      "needs_background": "light"
     },
     "output_type": "display_data"
    }
   ],
   "source": [
    "## Plot results ##\n",
    "aτ0_1_3 = aτ0**(1./3.)\n",
    "plt.hist(np.hstack([x,-x]), bins=int(np.sqrt(2.*n_photons)), range=(-50,50), density=True)\n",
    "xa = np.linspace(-40, 40, 250)\n",
    "Ja = np.sqrt(np.pi/6.)*xa**2/aτ0/np.cosh(np.sqrt(np.pi**3/54.)*xa**3/aτ0)\n",
    "plt.plot(xa, Ja, 'r')\n",
    "plt.xlabel(r'$x$', fontsize=14)\n",
    "plt.ylabel(r'$J(x)$', fontsize=14)\n",
    "plt.gca().set_xlim([-30.,30.]);\n",
    "plt.title(r\"$a\\tau_0 = %g, \\; x_{\\rm cw} = %g, \\; x_{\\rm cs} = %g$\" % (aτ0, x_cw, x_cs))\n",
    "plt.savefig('J_MCRT.pdf', bbox_inches='tight')"
   ]
  },
  {
   "cell_type": "code",
   "execution_count": null,
   "metadata": {},
   "outputs": [],
   "source": []
  }
 ],
 "metadata": {
  "kernelspec": {
   "display_name": "Python 3",
   "language": "python",
   "name": "python3"
  },
  "language_info": {
   "codemirror_mode": {
    "name": "ipython",
    "version": 3
   },
   "file_extension": ".py",
   "mimetype": "text/x-python",
   "name": "python",
   "nbconvert_exporter": "python",
   "pygments_lexer": "ipython3",
   "version": "3.7.3"
  }
 },
 "nbformat": 4,
 "nbformat_minor": 2
}
