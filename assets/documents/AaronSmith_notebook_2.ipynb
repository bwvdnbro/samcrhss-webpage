{
 "cells": [
  {
   "cell_type": "code",
   "execution_count": 1,
   "metadata": {
    "collapsed": true
   },
   "outputs": [],
   "source": [
    "%matplotlib inline"
   ]
  },
  {
   "cell_type": "code",
   "execution_count": 2,
   "metadata": {
    "collapsed": true
   },
   "outputs": [],
   "source": [
    "import numpy as np\n",
    "from numpy.random import rand, normal\n",
    "from scipy.optimize import fsolve\n",
    "import matplotlib.pyplot as plt"
   ]
  },
  {
   "cell_type": "markdown",
   "metadata": {},
   "source": [
    "# Constants"
   ]
  },
  {
   "cell_type": "code",
   "execution_count": 3,
   "metadata": {
    "collapsed": true
   },
   "outputs": [],
   "source": [
    "f12 = 0.4162                  # Oscillator strength\n",
    "c   = 2.99792458e10           # Speed of light (cm/sec)\n",
    "ν0  = 2.466e15                # Lya frequency (Hz)\n",
    "λ0  = c / ν0                  # Lya wavelength (cm)\n",
    "ΔνL = 9.936e7                 # Natural line width (Hz)\n",
    "me  = 9.109382917e-28         # Electron mass (g)\n",
    "ee  = 4.80320451e-10          # Electron charge in g^(1/2) cm^(3/2) / s\n",
    "kB  = 1.380648813e-16         # Boltzmann's constant (g cm^2/sec^2/k)\n",
    "mH  = 1.6735327e-24           # Mass of hydrogen atom (g)\n",
    "h   = 6.626069573e-27         # Planck's constant (erg s)\n",
    "\n",
    "km  = 1e5                     # Units: 1 km = 1e5  cm\n",
    "pc  = 3.085677581467192e18    # Units: 1 pc = 3e18 cm\n",
    "\n",
    "# Thermal velocity: vth_div_sqrtT = vth / sqrt(T)\n",
    "vth_div_sqrtT = np.sqrt(2. * kB / mH)\n",
    "# Doppler width: ΔνD_div_sqrtT = ΔνD / sqrt(T)  (ΔνD = ν0*vth/c)\n",
    "ΔνD_div_sqrtT = ν0 * vth_div_sqrtT / c\n",
    "# \"damping parameter\": a_sqrtT = a * sqrt(T)\n",
    "a_sqrtT = c * ΔνL * mH / (2. * ν0 * np.sqrt(2. * kB * mH))\n",
    "# Cross section: σ0_sqrtT = σ0 * sqrt(T)\n",
    "σ0_sqrtT = np.sqrt(np.pi/2) * f12 * ee * ee * np.sqrt(mH/kB) / (me * ν0)"
   ]
  },
  {
   "cell_type": "markdown",
   "metadata": {},
   "source": [
    "# Initial Conditions"
   ]
  },
  {
   "cell_type": "code",
   "execution_count": 4,
   "metadata": {},
   "outputs": [
    {
     "name": "stdout",
     "output_type": "stream",
     "text": [
      "Lyman-alpha properties:\n",
      "  aτ0  = 10000000.0\n",
      "  T    = 10000.0 K\n",
      "  zmax = 1.0 cm\n",
      "  xmax = 538.6086725079708\n",
      "  nz   = 101\t(z0=0.0, iz0=50)\n",
      "  nx   = 51\t(x0=0.0, iz0=25)\n",
      "\n",
      "  x_cw = 3.255018090644676\n",
      "  vth  = 12.845159709869076 km/s\n",
      "  ΔνD  = 105.66030932151449 GHz\n",
      "  a    = 0.00047018601704854355\n",
      "  τ0   = 21268178204.813705\n",
      "  σ0   = 5.898174674107242e-14 cm^2\n",
      "  k0   = 21268178204.813705 cm^-1\n",
      "  N0   = 3.605891547800404e+23 cm^-2\n",
      "  n0   = 3.605891547800404e+23 cm^-3\n"
     ]
    }
   ],
   "source": [
    "aτ0  = 1e7  # Optically thick if a * tau0 > 1000\n",
    "T    = 1e4  # Temperature (K)\n",
    "zmax = 1.   # Center-to-edge distance in plane parallel geometry\n",
    "xmax = 2.5 * aτ0**(1./3.) # Maximum frequency\n",
    "nz   = 101  # Number of spatial cells\n",
    "nx   = 51   # Number of frequency bins\n",
    "# nz   = 75   # Number of spatial cells\n",
    "# nx   = 41   # Number of frequency bins\n",
    "# nz   = 49   # Number of spatial cells\n",
    "# nx   = 31   # Number of frequency bins\n",
    "z_edges = np.linspace(-zmax,zmax,nz+1)\n",
    "x_edges = np.linspace(-xmax,xmax,nx+1)\n",
    "z    = (z_edges[1:] + z_edges[:-1]) / 2.\n",
    "x    = (x_edges[1:] + x_edges[:-1]) / 2.\n",
    "Δz   = z_edges[1:] - z_edges[:-1]\n",
    "Δx   = x_edges[1:] - x_edges[:-1]\n",
    "z0   = 0.   # Emission at z = 0\n",
    "x0   = 0.   # Emission at x = 0\n",
    "iz0  = np.argmin(np.abs(z - z0))\n",
    "ix0  = np.argmin(np.abs(x - x0))\n",
    "\n",
    "## Derived parameters ##\n",
    "vth  = vth_div_sqrtT * np.sqrt(T)     # Thermal velocity (cm/s)\n",
    "ΔνD  = ΔνD_div_sqrtT * np.sqrt(T)     # Doppler width (Hz)\n",
    "a    = a_sqrtT / np.sqrt(T)           # \"damping parameter\"\n",
    "τ0   = aτ0 / a                        # Optical depth at line center\n",
    "σ0   = σ0_sqrtT / np.sqrt(T)          # Cross-section at line center (cm^2)\n",
    "k0   = τ0 / zmax                      # Absorption coefficient (cm^-1)\n",
    "N0   = τ0 / σ0                        # Column density (cm^-2)\n",
    "n0   = N0 / zmax                      # Number density (cm^-3)\n",
    "# Core-wing transition frequency: exp(-x_cw^2) ~ a / (sqrt(pi) x_cw^2)\n",
    "x_cw = fsolve(lambda y : np.exp(-y*y) - a / (np.sqrt(np.pi) * y*y), 0.5)[0]\n",
    "\n",
    "## Print Lyman-alpha properties ##\n",
    "print('Lyman-alpha properties:'\n",
    "      f'\\n  aτ0  = {aτ0}'\n",
    "      f'\\n  T    = {T} K'\n",
    "      f'\\n  zmax = {zmax} cm'\n",
    "      f'\\n  xmax = {xmax}'\n",
    "      f'\\n  nz   = {nz}\\t(z0={z0}, iz0={iz0})'\n",
    "      f'\\n  nx   = {nx}\\t(x0={x0}, iz0={ix0})\\n'\n",
    "      f'\\n  x_cw = {x_cw}'\n",
    "      f'\\n  vth  = {vth/km} km/s'\n",
    "      f'\\n  ΔνD  = {ΔνD/1e9} GHz'\n",
    "      f'\\n  a    = {a}'\n",
    "      f'\\n  τ0   = {τ0}'\n",
    "      f'\\n  σ0   = {σ0} cm^2'\n",
    "      f'\\n  k0   = {k0} cm^-1'\n",
    "      f'\\n  N0   = {N0} cm^-2'\n",
    "      f'\\n  n0   = {n0} cm^-3')"
   ]
  },
  {
   "cell_type": "markdown",
   "metadata": {},
   "source": [
    "# Helper functions"
   ]
  },
  {
   "cell_type": "code",
   "execution_count": 5,
   "metadata": {},
   "outputs": [
    {
     "data": {
      "image/png": "[encoded data removed]",
      "text/plain": [
       "<Figure size 432x288 with 1 Axes>"
      ]
     },
     "metadata": {
      "needs_background": "light"
     },
     "output_type": "display_data"
    }
   ],
   "source": [
    "## Voigt function ##\n",
    "from scipy.special import dawsn,erf\n",
    "sqrt_pi_2 = np.sqrt(np.pi) / 2.\n",
    "def H(x):\n",
    "    return np.exp(-x**2) * (1. + a**2*(1.-2.*x**2)) + a*(2.*x*dawsn(x) - 1.)/sqrt_pi_2\n",
    "\n",
    "def IH(x):\n",
    "    return sqrt_pi_2*erf(x) - a*dawsn(x)/sqrt_pi_2 + a**2*x*np.exp(-x**2)\n",
    "\n",
    "k = k0 * (IH(x_edges[1:]) - IH(x_edges[:-1])) / Δx # Average scattering coefficient\n",
    "\n",
    "xmax_lim = 150.\n",
    "x_a = np.linspace(-xmax_lim, xmax_lim, 500)\n",
    "plt.semilogy(x_a, [H(x_i) for x_i in x_a])\n",
    "plt.plot(x, k/k0, drawstyle='steps-mid')\n",
    "plt.xlim([-xmax_lim,xmax_lim])\n",
    "plt.xlabel(r'$x$', fontsize=14)\n",
    "plt.ylabel(r'$H(a,x)$', fontsize=14)\n",
    "plt.show()"
   ]
  },
  {
   "cell_type": "markdown",
   "metadata": {},
   "source": [
    "# Lyman-alpha Radiative Transfer"
   ]
  },
  {
   "cell_type": "markdown",
   "metadata": {},
   "source": [
    "* Psuedo-code\n",
    "\n",
    "    Initialize photon position (cell) and frequency (bin)\n",
    "    \n",
    "    Loop until photon escapes (iz < 0 or iz >= nz):\n",
    "        Check spatial leakage:\n",
    "$\n",
    "\\begin{align}\n",
    "k_{z\\text{-leak}}^{\\delta i} = \\frac{1}{3\\Delta z_i} \\frac{2}{k_{i,j} \\Delta z_i + k_{\\delta i,j} \\Delta z_{\\delta i}} \\quad \\Rightarrow \\quad \\lambda_{z\\text{-leak}}^{\\delta i} = 3 k_j (\\Delta z)^2 \\quad \\text{(isothermal, uniform slab, constant} \\, \\Delta z \\, \\text{spacing)}\n",
    "\\end{align}\n",
    "$\n",
    "        Check frequency leakage:\n",
    "$\n",
    "\\begin{align}\n",
    "k_{x\\text{-leak}}^{\\delta j} = \\frac{1}{\\Delta x_j} \\frac{1}{k_{i,j}^{-1} \\Delta x_j + k_{i,\\delta j}^{-1} \\Delta x_{\\delta j}}  \\quad \\Rightarrow \\quad \\lambda_{x\\text{-leak}}^{\\delta j} = \\left(k_j^{-1} + k_{\\delta j}^{-1} \\right) (\\Delta x)^2 \\quad \\text{(isothermal, uniform slab, constant} \\, \\Delta x \\, \\text{spacing)}\n",
    "\\end{align}\n",
    "$\n",
    "        Update photon position (cell) or frequency (bin) according to the minimum interaction distance\n",
    "$\n",
    "\\begin{align}\n",
    "\\Delta \\ell = \\min_{\\delta i, \\delta j} \\left( \\Delta \\ell_{z\\text{-leak}}^{\\delta i}, \\Delta \\ell_{x\\text{-leak}}^{\\delta j} \\right) \\quad \\text{where} \\quad \\Delta \\ell_X = -\\lambda_{\\text{mfp},X} \\ln \\xi\n",
    "\\end{align}\n",
    "$"
   ]
  },
  {
   "cell_type": "code",
   "execution_count": 6,
   "metadata": {
    "collapsed": true
   },
   "outputs": [],
   "source": [
    "## Track a single photon to escape ##\n",
    "MOVE_LEFT  = 0\n",
    "MOVE_RIGHT = 1\n",
    "FREQ_LEFT  = 2\n",
    "FREQ_RIGHT = 3\n",
    "action_str = ['MOVE_LEFT', 'MOVE_RIGHT', 'FREQ_LEFT', 'FREQ_RIGHT']\n",
    "\n",
    "λz = 3. * k * Δz[0]**2 # Mean free path for spatial leakage\n",
    "k_inv = np.hstack([np.inf, 1./k[1:] + 1./k[:-1], np.inf])\n",
    "λxL = k_inv[:-1] * Δx**2 # Mean free path for frequency leakage (left)\n",
    "λxR = k_inv[1:] * Δx**2  # Mean free path for frequency leakage (right)\n",
    "\n",
    "def photon():\n",
    "    iz = iz0                    # Initialize each photon at the center of the slab\n",
    "    ix = ix0                    # Initialize each photon at line center: x = (ν - ν0) / ΔνD\n",
    "    while True:\n",
    "        Δl_min = np.inf\n",
    "        ## Check spatial leakage (left)\n",
    "        Δl_z_L = -np.log(rand()) * λz[ix] # Δl = -ln(R) / k_leak\n",
    "        if Δl_z_L < Δl_min:\n",
    "            action = MOVE_LEFT\n",
    "            Δl_min = Δl_z_L\n",
    "        ## Check spatial leakage (right)\n",
    "        Δl_z_R = -np.log(rand()) * λz[ix] # Δl = -ln(R) / k_leak\n",
    "        if Δl_z_R < Δl_min:\n",
    "            action = MOVE_RIGHT\n",
    "            Δl_min = Δl_z_R\n",
    "        ## Check frequency leakage (left)\n",
    "        Δl_x_L = -np.log(rand()) * λxL[ix] # Δl = -ln(R) / k_leak\n",
    "        if Δl_x_L < Δl_min:\n",
    "            action = FREQ_LEFT\n",
    "            Δl_min = Δl_x_L\n",
    "        ## Check frequency leakage (right)\n",
    "        Δl_x_R = -np.log(rand()) * λxR[ix] # Δl = -ln(R) / k_leak\n",
    "        if Δl_x_R < Δl_min:\n",
    "            action = FREQ_RIGHT\n",
    "            Δl_min = Δl_x_R\n",
    "        ## Update photon position (cell) or frequency (bin)\n",
    "        if action == MOVE_LEFT:\n",
    "            iz -= 1\n",
    "            if iz < 0:\n",
    "                break # Photon escapes through left boundary\n",
    "        elif action == MOVE_RIGHT:\n",
    "            iz += 1\n",
    "            if iz >= nz:\n",
    "                break # Photon escapes through right boundary\n",
    "        elif action == FREQ_LEFT:\n",
    "            ix -= 1\n",
    "        elif action == FREQ_RIGHT:\n",
    "            ix += 1\n",
    "    return x[ix]"
   ]
  },
  {
   "cell_type": "code",
   "execution_count": 9,
   "metadata": {},
   "outputs": [],
   "source": [
    "## Run simulation ##\n",
    "n_photons = 2000  # Number of Monte-Carlo photon packets\n",
    "xs = np.array([photon() for i in range(n_photons)])"
   ]
  },
  {
   "cell_type": "code",
   "execution_count": 10,
   "metadata": {},
   "outputs": [
    {
     "data": {
      "image/png": "[encoded data removed]",
      "text/plain": [
       "<Figure size 432x288 with 1 Axes>"
      ]
     },
     "metadata": {
      "needs_background": "light"
     },
     "output_type": "display_data"
    }
   ],
   "source": [
    "## Plot results ##\n",
    "aτ0_1_3 = aτ0**(1./3.)\n",
    "plt.hist(np.hstack([xs,-xs])/aτ0_1_3, bins=nx, range=(-xmax/aτ0_1_3,xmax/aτ0_1_3), density=True)\n",
    "# plt.hist(xs/aτ0_1_3, bins=nx, range=(-xmax/aτ0_1_3,xmax/aτ0_1_3), density=True)\n",
    "xa = np.linspace(-xmax, xmax, 250)\n",
    "Ja = np.sqrt(np.pi/6.)*xa**2/aτ0/np.cosh(np.sqrt(np.pi**3/54.)*xa**3/aτ0)\n",
    "plt.plot(xa/aτ0_1_3, Ja*aτ0_1_3, 'r')\n",
    "plt.xlabel(r'$x / (a \\tau_0)^{1/3}$', fontsize=14)\n",
    "plt.ylabel(r'$J(x) \\times (a \\tau_0)^{1/3}$', fontsize=14)\n",
    "plt.gca().set_xlim([-2.,2.]);\n",
    "plt.title(r\"$a\\tau_0 = %g$\" % (aτ0))\n",
    "plt.savefig('J_rDDMC.pdf', bbox_inches='tight')"
   ]
  },
  {
   "cell_type": "code",
   "execution_count": null,
   "metadata": {},
   "outputs": [],
   "source": []
  }
 ],
 "metadata": {
  "kernelspec": {
   "display_name": "Python 3",
   "language": "python",
   "name": "python3"
  },
  "language_info": {
   "codemirror_mode": {
    "name": "ipython",
    "version": 3
   },
   "file_extension": ".py",
   "mimetype": "text/x-python",
   "name": "python",
   "nbconvert_exporter": "python",
   "pygments_lexer": "ipython3",
   "version": "3.7.3"
  }
 },
 "nbformat": 4,
 "nbformat_minor": 2
}
